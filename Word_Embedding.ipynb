{
  "nbformat": 4,
  "nbformat_minor": 0,
  "metadata": {
    "colab": {
      "name": "Word_Embedding.ipynb",
      "provenance": [],
      "collapsed_sections": [],
      "include_colab_link": true
    },
    "kernelspec": {
      "display_name": "Python 3",
      "language": "python",
      "name": "python3"
    },
    "language_info": {
      "codemirror_mode": {
        "name": "ipython",
        "version": 3
      },
      "file_extension": ".py",
      "mimetype": "text/x-python",
      "name": "python",
      "nbconvert_exporter": "python",
      "pygments_lexer": "ipython3",
      "version": "3.8.3"
    }
  },
  "cells": [
    {
      "cell_type": "markdown",
      "metadata": {
        "id": "view-in-github",
        "colab_type": "text"
      },
      "source": [
        "<a href=\"https://colab.research.google.com/github/choi-yongsuk/deep-learning-nlp/blob/master/Word_Embedding.ipynb\" target=\"_parent\"><img src=\"https://colab.research.google.com/assets/colab-badge.svg\" alt=\"Open In Colab\"/></a>"
      ]
    },
    {
      "cell_type": "markdown",
      "source": [
        "필요한 파일들을 다운로드합니다."
      ],
      "metadata": {
        "id": "FrZXqZES78by"
      }
    },
    {
      "cell_type": "code",
      "source": [
        "!gdown https://drive.google.com/uc?id=1k3PoJSjKF6Nxxr0zlQvxHgUNrsUT4fk4 #pos_train.txt\n",
        "!gdown https://drive.google.com/uc?id=16CEZaio24XfD86MZ5AsGpgePqT2hyb4P #neg_train.txt"
      ],
      "metadata": {
        "id": "t4ENoQLN7HBU",
        "colab": {
          "base_uri": "https://localhost:8080/"
        },
        "outputId": "a2646edf-3402-487b-b9e6-248f31b03a27"
      },
      "execution_count": 1,
      "outputs": [
        {
          "output_type": "stream",
          "name": "stdout",
          "text": [
            "Downloading...\n",
            "From: https://drive.google.com/uc?id=1k3PoJSjKF6Nxxr0zlQvxHgUNrsUT4fk4\n",
            "To: /content/pos_train.txt\n",
            "100% 3.96M/3.96M [00:00<00:00, 185MB/s]\n",
            "Downloading...\n",
            "From: https://drive.google.com/uc?id=16CEZaio24XfD86MZ5AsGpgePqT2hyb4P\n",
            "To: /content/neg_train.txt\n",
            "100% 3.63M/3.63M [00:00<00:00, 215MB/s]\n"
          ]
        }
      ]
    },
    {
      "cell_type": "code",
      "metadata": {
        "id": "1PT0ej9VoW9V"
      },
      "source": [
        "# 가상환경 구성 및 필요한 라이브러리 설치\n",
        "# conda create -n LM\n",
        "# conda install pip\n",
        "# pip install pickle\n",
        "# conda install gensim \n",
        "# conda install nltk\n",
        "# conda install -c anaconda scikit-learn\n",
        "# conda install pytorch==1.0.0 torchvision==0.2.1 cuda100 -c pytorch\n",
        "# conda install matplotlib\n",
        "# conda install pandas"
      ],
      "execution_count": null,
      "outputs": []
    },
    {
      "cell_type": "code",
      "metadata": {
        "id": "5ziwpOYaCY_g",
        "scrolled": true
      },
      "source": [
        "import os\n",
        "import random\n",
        "import numpy as np\n",
        "from gensim.models import word2vec #  word2vec 관련 모델을 제공해주는 library  \n",
        "from sklearn.manifold import TSNE # 시각화를 위한 TSNE 사용 \n",
        "import matplotlib.pyplot as plt\n",
        "import torch.nn as nn # pytorch neural network 불러오기 \n",
        "import torch\n",
        "\n",
        "import pickle\n",
        "\n",
        "#os.environ[\"CUDA_VISIBLE_DEVICES\"]=\"4\""
      ],
      "execution_count": 2,
      "outputs": []
    },
    {
      "cell_type": "markdown",
      "metadata": {
        "id": "dSqgaJGKCY_j"
      },
      "source": [
        "# Word embedding (word2vec)\n",
        "- word embedding 이 어떻게 동작하게 되는지 알아봅시다."
      ]
    },
    {
      "cell_type": "markdown",
      "source": [
        "\n",
        "\n",
        "![대체 텍스트](https://drive.google.com/uc?id=1sSjjs8fTFblGedtPVbfHYhbQvAyk8u3g)"
      ],
      "metadata": {
        "id": "VsBS98Ld8ykW"
      }
    },
    {
      "cell_type": "code",
      "metadata": {
        "id": "0kHZIbYMCY_m"
      },
      "source": [
        "# preparing data\n",
        "sentences = []\n",
        "pos_data = open(\"./pos_train.txt\").readlines()\n",
        "neg_data = open(\"./neg_train.txt\").readlines()\n",
        "data_ = pos_data + neg_data\n",
        "for line in data_:\n",
        "    sentences.append(line.strip().split(' '))"
      ],
      "execution_count": 3,
      "outputs": []
    },
    {
      "cell_type": "code",
      "source": [
        "sentences[0]"
      ],
      "metadata": {
        "id": "llFWHN_ASvjS"
      },
      "execution_count": null,
      "outputs": []
    },
    {
      "cell_type": "code",
      "metadata": {
        "id": "bHrhWQYlCY_k"
      },
      "source": [
        "# 파라메터값 지정\n",
        "num_features = 300 # 임베딩 벡터 사이즈\n",
        "negative = 10 # negative sampling할 단어 수\n",
        "min_word_count = 10 # 단어빈도수가 10으로 제한\n",
        "window = 5 # context window 사이즈\n",
        "downsampling = 0.75 # 단어의 빈도수가 높은 단어에 대해 빈도수를 낮춤\n",
        "epoch = 5 # epoch 수"
      ],
      "execution_count": 5,
      "outputs": []
    },
    {
      "cell_type": "code",
      "metadata": {
        "id": "-7HMVxwYCY_n"
      },
      "source": [
        "# skip-gram 모델 학습\n",
        "skip_gram = word2vec.Word2Vec(sentences,\n",
        "                              sg = 1, # skip-gram\n",
        "                              negative=negative,\n",
        "                              size=num_features, \n",
        "                              min_count=min_word_count,\n",
        "                              window=window,\n",
        "                              sample=downsampling,\n",
        "                              iter=epoch)"
      ],
      "execution_count": 6,
      "outputs": []
    },
    {
      "cell_type": "markdown",
      "metadata": {
        "id": "UODwOMC2CY_p"
      },
      "source": [
        "##  Training result"
      ]
    },
    {
      "cell_type": "code",
      "source": [
        "skip_gram['man'].shape"
      ],
      "metadata": {
        "colab": {
          "base_uri": "https://localhost:8080/"
        },
        "id": "Scywo2F4UJFx",
        "outputId": "a98b9dab-808e-47d0-ed6c-164e3c6cb4b3"
      },
      "execution_count": 9,
      "outputs": [
        {
          "output_type": "stream",
          "name": "stderr",
          "text": [
            "/usr/local/lib/python3.7/dist-packages/ipykernel_launcher.py:1: DeprecationWarning: Call to deprecated `__getitem__` (Method will be removed in 4.0.0, use self.wv.__getitem__() instead).\n",
            "  \"\"\"Entry point for launching an IPython kernel.\n"
          ]
        },
        {
          "output_type": "execute_result",
          "data": {
            "text/plain": [
              "(300,)"
            ]
          },
          "metadata": {},
          "execution_count": 9
        }
      ]
    },
    {
      "cell_type": "code",
      "source": [
        "skip_gram['king'].shape"
      ],
      "metadata": {
        "id": "yW74zhWjQmqQ",
        "colab": {
          "base_uri": "https://localhost:8080/"
        },
        "outputId": "12318a93-30be-405d-8827-ba9bee7934d1"
      },
      "execution_count": 8,
      "outputs": [
        {
          "output_type": "stream",
          "name": "stderr",
          "text": [
            "/usr/local/lib/python3.7/dist-packages/ipykernel_launcher.py:1: DeprecationWarning: Call to deprecated `__getitem__` (Method will be removed in 4.0.0, use self.wv.__getitem__() instead).\n",
            "  \"\"\"Entry point for launching an IPython kernel.\n"
          ]
        },
        {
          "output_type": "execute_result",
          "data": {
            "text/plain": [
              "(300,)"
            ]
          },
          "metadata": {},
          "execution_count": 8
        }
      ]
    },
    {
      "cell_type": "code",
      "metadata": {
        "id": "S1iO_RMTCY_q",
        "colab": {
          "base_uri": "https://localhost:8080/"
        },
        "outputId": "a15d86c3-9325-4e57-be2d-e38eae0bb35c"
      },
      "source": [
        "skip_gram.wv.most_similar(\"man\") # skip-gram 모델을 이용하여 'man'에 가장 유사한 단어 추출"
      ],
      "execution_count": 10,
      "outputs": [
        {
          "output_type": "execute_result",
          "data": {
            "text/plain": [
              "[('woman', 0.7575314044952393),\n",
              " ('boy', 0.7478474378585815),\n",
              " ('girl', 0.7035796046257019),\n",
              " ('person', 0.6948527693748474),\n",
              " ('teenager', 0.6871198415756226),\n",
              " ('guy', 0.6732769012451172),\n",
              " ('lady', 0.6726071834564209),\n",
              " ('doctor', 0.6714420318603516),\n",
              " ('einstein', 0.6539696455001831),\n",
              " ('kid', 0.6495943069458008)]"
            ]
          },
          "metadata": {},
          "execution_count": 10
        }
      ]
    },
    {
      "cell_type": "code",
      "metadata": {
        "id": "ZH1694CsCY_t",
        "colab": {
          "base_uri": "https://localhost:8080/"
        },
        "outputId": "07dd71ff-9627-4d7d-e4ae-fc88391bce60"
      },
      "source": [
        "vector = skip_gram[\"king\"] - skip_gram[\"man\"] + skip_gram[\"woman\"]\n",
        "skip_gram.wv.similar_by_vector(vector, topn=10, restrict_vocab=None)"
      ],
      "execution_count": 11,
      "outputs": [
        {
          "output_type": "stream",
          "name": "stderr",
          "text": [
            "/usr/local/lib/python3.7/dist-packages/ipykernel_launcher.py:1: DeprecationWarning: Call to deprecated `__getitem__` (Method will be removed in 4.0.0, use self.wv.__getitem__() instead).\n",
            "  \"\"\"Entry point for launching an IPython kernel.\n"
          ]
        },
        {
          "output_type": "execute_result",
          "data": {
            "text/plain": [
              "[('king', 0.7778366208076477),\n",
              " ('jessica', 0.6294777393341064),\n",
              " ('co-star', 0.6216084361076355),\n",
              " ('sidney', 0.6187993288040161),\n",
              " ('jamie', 0.6162125468254089),\n",
              " ('neal', 0.6133549213409424),\n",
              " ('kingpin', 0.6130000352859497),\n",
              " ('shue', 0.6087632775306702),\n",
              " ('colleague', 0.6081019639968872),\n",
              " ('alda', 0.6077021360397339)]"
            ]
          },
          "metadata": {},
          "execution_count": 11
        }
      ]
    },
    {
      "cell_type": "code",
      "source": [
        "# pretrained model 다운로드 및 로드\n",
        "import gensim.downloader\n",
        "print(list(gensim.downloader.info()['models'].keys()))"
      ],
      "metadata": {
        "id": "74XxdlyiQJBh",
        "colab": {
          "base_uri": "https://localhost:8080/"
        },
        "outputId": "0f1f1ca1-9d83-4f0f-eea9-1102bd17c26e"
      },
      "execution_count": 12,
      "outputs": [
        {
          "output_type": "stream",
          "name": "stdout",
          "text": [
            "['fasttext-wiki-news-subwords-300', 'conceptnet-numberbatch-17-06-300', 'word2vec-ruscorpora-300', 'word2vec-google-news-300', 'glove-wiki-gigaword-50', 'glove-wiki-gigaword-100', 'glove-wiki-gigaword-200', 'glove-wiki-gigaword-300', 'glove-twitter-25', 'glove-twitter-50', 'glove-twitter-100', 'glove-twitter-200', '__testing_word2vec-matrix-synopsis']\n"
          ]
        }
      ]
    },
    {
      "cell_type": "code",
      "source": [
        "pretrained_w2v = gensim.downloader.load('glove-wiki-gigaword-100')"
      ],
      "metadata": {
        "id": "wd7CUoVYQPk4",
        "colab": {
          "base_uri": "https://localhost:8080/"
        },
        "outputId": "066b782b-193c-4c9c-f0ec-6bdb2ca655e7"
      },
      "execution_count": 13,
      "outputs": [
        {
          "output_type": "stream",
          "name": "stdout",
          "text": [
            "[==================================================] 100.0% 128.1/128.1MB downloaded\n"
          ]
        }
      ]
    },
    {
      "cell_type": "code",
      "source": [
        "vector = pretrained_w2v[\"queen\"] - pretrained_w2v[\"female\"] + pretrained_w2v[\"male\"]\n",
        "pretrained_w2v.wv.similar_by_vector(vector, topn=10, restrict_vocab=None)"
      ],
      "metadata": {
        "id": "bdN4ABlYQY_O",
        "colab": {
          "base_uri": "https://localhost:8080/"
        },
        "outputId": "f3c4bc3e-24a6-4e8e-cc52-ba539655f753"
      },
      "execution_count": 14,
      "outputs": [
        {
          "output_type": "stream",
          "name": "stderr",
          "text": [
            "/usr/local/lib/python3.7/dist-packages/ipykernel_launcher.py:2: DeprecationWarning: Call to deprecated `wv` (Attribute will be removed in 4.0.0, use self instead).\n",
            "  \n"
          ]
        },
        {
          "output_type": "execute_result",
          "data": {
            "text/plain": [
              "[('queen', 0.947972297668457),\n",
              " ('princess', 0.7650102376937866),\n",
              " ('king', 0.7501826286315918),\n",
              " ('royal', 0.6887385845184326),\n",
              " ('elizabeth', 0.6868605613708496),\n",
              " ('throne', 0.6770995855331421),\n",
              " ('crown', 0.6766407489776611),\n",
              " ('prince', 0.6665029525756836),\n",
              " ('consort', 0.6578314304351807),\n",
              " ('monarch', 0.6456246376037598)]"
            ]
          },
          "metadata": {},
          "execution_count": 14
        }
      ]
    },
    {
      "cell_type": "code",
      "source": [
        "vector = pretrained_w2v['korea'] - pretrained_w2v['seoul'] + pretrained_w2v['tokyo']\n",
        "pretrained_w2v.wv.similar_by_vector(vector, topn=10, restrict_vocab=None)"
      ],
      "metadata": {
        "id": "ArM1lq3gSZLr",
        "colab": {
          "base_uri": "https://localhost:8080/"
        },
        "outputId": "b2e1b624-1136-4998-8315-a2bfb25bf5ac"
      },
      "execution_count": 15,
      "outputs": [
        {
          "output_type": "stream",
          "name": "stderr",
          "text": [
            "/usr/local/lib/python3.7/dist-packages/ipykernel_launcher.py:2: DeprecationWarning: Call to deprecated `wv` (Attribute will be removed in 4.0.0, use self instead).\n",
            "  \n"
          ]
        },
        {
          "output_type": "execute_result",
          "data": {
            "text/plain": [
              "[('japan', 0.911020040512085),\n",
              " ('korea', 0.8252936005592346),\n",
              " ('tokyo', 0.796038031578064),\n",
              " ('japanese', 0.7281501889228821),\n",
              " ('china', 0.6805654764175415),\n",
              " ('asia', 0.656752347946167),\n",
              " ('korean', 0.6231093406677246),\n",
              " ('europe', 0.6118385195732117),\n",
              " ('russia', 0.6116989254951477),\n",
              " ('pyongyang', 0.6081833839416504)]"
            ]
          },
          "metadata": {},
          "execution_count": 15
        }
      ]
    },
    {
      "cell_type": "code",
      "metadata": {
        "id": "WI9lbWEmCY_v"
      },
      "source": [
        "def render_TSNE(vocab, word_emb):\n",
        "    \"\"\"\n",
        "    TSNE를 이용한 word2vec 시각화 \n",
        "    args:\n",
        "        vocab    - vocab list\n",
        "        word_emb - word embeddings\n",
        "    \"\"\"\n",
        "    tsne = TSNE(perplexity=15, n_components=2, init='pca', n_iter=3500, random_state=32) #TSNE 시각화를 위한 initialization\n",
        "    _tsne = tsne.fit_transform(word_emb) # TSNE 시각화 적용\n",
        "    x_coordinate = _tsne[:,0] # x 좌표\n",
        "    y_coordinate = _tsne[:,1] # y 좌표\n",
        "\n",
        "    # scatter plot initialization\n",
        "    fig, ax = plt.subplots()\n",
        "    fig.set_size_inches(40, 20)\n",
        "    ax.scatter(x_coordinate, y_coordinate)\n",
        "\n",
        "    for i, word in enumerate(random_vocab):\n",
        "        ax.annotate(word,(x_coordinate[i], y_coordinate[i]), fontsize=30) # 각 scatter들에대해 단어 labeling\n",
        "\n",
        "    plt.show()"
      ],
      "execution_count": 16,
      "outputs": []
    },
    {
      "cell_type": "code",
      "metadata": {
        "id": "dSQOkHhrCY_x",
        "colab": {
          "base_uri": "https://localhost:8080/",
          "height": 853
        },
        "outputId": "8cfef684-d928-4fc1-839f-2fffe4d16ce3"
      },
      "source": [
        "# Skip-gram 시각화(TSNE)\n",
        "vocab = list(pretrained_w2v.wv.vocab) # vocab list 불러오기\n",
        "# random_vocab = random.sample(vocab,k=100) #100개의 임의 단어를 랜덤 샘플링\n",
        "random_vocab = ['queen','king','male','female','man','woman','girl','boy']\n",
        "word_emb = pretrained_w2v[random_vocab] # 샘플링된 단어에 대해 학습된 임베딩 벡터 불러오기\n",
        "render_TSNE(random_vocab, word_emb) # TSNE 시각화"
      ],
      "execution_count": 18,
      "outputs": [
        {
          "output_type": "stream",
          "name": "stderr",
          "text": [
            "/usr/local/lib/python3.7/dist-packages/ipykernel_launcher.py:2: DeprecationWarning: Call to deprecated `wv` (Attribute will be removed in 4.0.0, use self instead).\n",
            "  \n",
            "/usr/local/lib/python3.7/dist-packages/sklearn/manifold/_t_sne.py:793: FutureWarning: The default learning rate in TSNE will change from 200.0 to 'auto' in 1.2.\n",
            "  FutureWarning,\n",
            "/usr/local/lib/python3.7/dist-packages/sklearn/manifold/_t_sne.py:986: FutureWarning: The PCA initialization in TSNE will change to have the standard deviation of PC1 equal to 1e-4 in 1.2. This will ensure better convergence.\n",
            "  FutureWarning,\n"
          ]
        },
        {
          "output_type": "display_data",
          "data": {
            "text/plain": [
              "<Figure size 2880x1440 with 1 Axes>"
            ],
            "image/png": "[encoded data removed]"
          },
          "metadata": {
            "needs_background": "light"
          }
        }
      ]
    },
    {
      "cell_type": "markdown",
      "source": [
        "# PyTorch를 이용한 word embedding\n",
        "지금까지는 gensim 라이브러리를 이용한 word2vec 적용 방법을 배워보았습니다.\n",
        "\n",
        "이번에는 딥러닝 모델 학습에 많이 이용되는 PyTorch 라이브러리를 통한 학습을 진행해보겠습니다.\n",
        "- 실제 word embedding은 2단계로 이루어져있습니다.\n",
        "  1. 단어를 단어의 one-hot vector 혹은 vocabulary index로 변환\n",
        "  2. one-hot vector 혹은 index로 표현된 단어를 단어의 의미가 담긴 vector로 변환\n",
        "\n",
        "- 1단계는 dataset 전처리 단계에서 진행합니다.\n",
        "- 2단계는 model을 구성할 때 진행합니다. \n",
        "\n",
        "\n",
        "gensim의 pretrained word2vec 모델을 pytorch에서 불러와보도록 하겠습니다."
      ],
      "metadata": {
        "id": "3OKPlgFnTV5m"
      }
    },
    {
      "cell_type": "code",
      "source": [
        "# pretrained vocabulary 확인\n",
        "pretrained_w2v.vocab\n",
        "# pretrained_w2v[['king','is','good']]"
      ],
      "metadata": {
        "id": "6Z12zHUnUIK6"
      },
      "execution_count": null,
      "outputs": []
    },
    {
      "cell_type": "code",
      "source": [
        "# vocabulary 구성\n",
        "word2idx = {word:idx for idx, word in enumerate(pretrained_w2v.vocab.keys())}\n",
        "idx2word = {idx:word for word, idx in word2idx.items()}"
      ],
      "metadata": {
        "id": "ZLPtkRG6UYGa"
      },
      "execution_count": 23,
      "outputs": []
    },
    {
      "cell_type": "code",
      "source": [
        "word2idx"
      ],
      "metadata": {
        "id": "D-mdfMZ5W9V4"
      },
      "execution_count": null,
      "outputs": []
    },
    {
      "cell_type": "code",
      "source": [
        "# nn.Embedding 레이어를 이용한 word2vec 레이어 생성\n",
        "# https://pytorch.org/docs/stable/generated/torch.nn.Embedding.html\n",
        "\n",
        "embedding_layer = nn.Embedding(num_embeddings = len(word2idx),              # 단어의 갯수\n",
        "                               embedding_dim= pretrained_w2v.vector_size)   # embedding dimension"
      ],
      "metadata": {
        "id": "eqfdA31M9Z8s"
      },
      "execution_count": 25,
      "outputs": []
    },
    {
      "cell_type": "code",
      "source": [
        "embedding_layer # 40만개의 단어가 100 dimension vector로 표현되어 있습니다"
      ],
      "metadata": {
        "id": "_bOOtkQbU2QY",
        "colab": {
          "base_uri": "https://localhost:8080/"
        },
        "outputId": "f65c6c24-4d93-471d-9758-201d77885781"
      },
      "execution_count": 26,
      "outputs": [
        {
          "output_type": "execute_result",
          "data": {
            "text/plain": [
              "Embedding(400000, 100)"
            ]
          },
          "metadata": {},
          "execution_count": 26
        }
      ]
    },
    {
      "cell_type": "code",
      "source": [
        "embedding_layer.weight"
      ],
      "metadata": {
        "id": "dno12O4CVKzG",
        "colab": {
          "base_uri": "https://localhost:8080/"
        },
        "outputId": "3d0c0052-e3e3-449e-eed2-1cb886fa5154"
      },
      "execution_count": 27,
      "outputs": [
        {
          "output_type": "execute_result",
          "data": {
            "text/plain": [
              "Parameter containing:\n",
              "tensor([[-0.0909, -0.4079,  0.2401,  ...,  1.1794, -0.6119,  0.0833],\n",
              "        [ 0.4743, -0.6050, -0.4640,  ..., -0.8152, -1.9639,  0.8076],\n",
              "        [ 0.1838,  0.1497, -1.6131,  ..., -2.2755, -1.9348, -0.1845],\n",
              "        ...,\n",
              "        [-0.4452, -1.3507,  0.0601,  ..., -1.4612,  0.1636, -0.3595],\n",
              "        [-0.1533, -0.7371, -0.1053,  ...,  0.6754,  0.9764, -0.6545],\n",
              "        [ 1.3575, -0.3197, -0.2789,  ...,  2.9308,  1.1462, -1.0109]],\n",
              "       requires_grad=True)"
            ]
          },
          "metadata": {},
          "execution_count": 27
        }
      ]
    },
    {
      "cell_type": "code",
      "source": [
        "# embedding_layer의 weight를 pretrained word2vec의 weight로 업데이트해줍니다.\n",
        "embedding_layer.weight = nn.Parameter(torch.tensor(pretrained_w2v.wv.vectors))"
      ],
      "metadata": {
        "id": "5cOie0BwW6VC",
        "colab": {
          "base_uri": "https://localhost:8080/"
        },
        "outputId": "da097afd-49f2-411e-eb99-754517bc4527"
      },
      "execution_count": 28,
      "outputs": [
        {
          "output_type": "stream",
          "name": "stderr",
          "text": [
            "/usr/local/lib/python3.7/dist-packages/ipykernel_launcher.py:2: DeprecationWarning: Call to deprecated `wv` (Attribute will be removed in 4.0.0, use self instead).\n",
            "  \n"
          ]
        }
      ]
    },
    {
      "cell_type": "code",
      "source": [
        "embedding_layer.weight"
      ],
      "metadata": {
        "id": "9zIm-lK-W27j",
        "colab": {
          "base_uri": "https://localhost:8080/"
        },
        "outputId": "84b96ac0-df8d-4898-a416-3dbbbfb0a9ed"
      },
      "execution_count": 29,
      "outputs": [
        {
          "output_type": "execute_result",
          "data": {
            "text/plain": [
              "Parameter containing:\n",
              "tensor([[-0.0382, -0.2449,  0.7281,  ..., -0.1459,  0.8278,  0.2706],\n",
              "        [-0.1077,  0.1105,  0.5981,  ..., -0.8316,  0.4529,  0.0826],\n",
              "        [-0.3398,  0.2094,  0.4635,  ..., -0.2339,  0.4730, -0.0288],\n",
              "        ...,\n",
              "        [ 0.3609, -0.1692, -0.3270,  ...,  0.2714, -0.2919,  0.1611],\n",
              "        [-0.1046, -0.5047, -0.4933,  ...,  0.4253, -0.5125, -0.1705],\n",
              "        [ 0.2837, -0.6263, -0.4435,  ...,  0.4368, -0.8261, -0.1570]],\n",
              "       requires_grad=True)"
            ]
          },
          "metadata": {},
          "execution_count": 29
        }
      ]
    },
    {
      "cell_type": "code",
      "source": [
        "print(\"Word:\",idx2word[0])\n",
        "embedding_layer.weight[0] # 0번째 단어의 embedding vector"
      ],
      "metadata": {
        "id": "R099ZM17VTEK",
        "colab": {
          "base_uri": "https://localhost:8080/"
        },
        "outputId": "f8b7e94b-05fd-4fc6-a91e-80cd41b48d7d"
      },
      "execution_count": 30,
      "outputs": [
        {
          "output_type": "stream",
          "name": "stdout",
          "text": [
            "Word: the\n"
          ]
        },
        {
          "output_type": "execute_result",
          "data": {
            "text/plain": [
              "tensor([-0.0382, -0.2449,  0.7281, -0.3996,  0.0832,  0.0440, -0.3914,  0.3344,\n",
              "        -0.5755,  0.0875,  0.2879, -0.0673,  0.3091, -0.2638, -0.1323, -0.2076,\n",
              "         0.3340, -0.3385, -0.3174, -0.4834,  0.1464, -0.3730,  0.3458,  0.0520,\n",
              "         0.4495, -0.4697,  0.0263, -0.5415, -0.1552, -0.1411, -0.0397,  0.2828,\n",
              "         0.1439,  0.2346, -0.3102,  0.0862,  0.2040,  0.5262,  0.1716, -0.0824,\n",
              "        -0.7179, -0.4153,  0.2033, -0.1276,  0.4137,  0.5519,  0.5791, -0.3348,\n",
              "        -0.3656, -0.5486, -0.0629,  0.2658,  0.3020,  0.9977, -0.8048, -3.0243,\n",
              "         0.0125, -0.3694,  2.2167,  0.7220, -0.2498,  0.9214,  0.0345,  0.4674,\n",
              "         1.1079, -0.1936, -0.0746,  0.2335, -0.0521, -0.2204,  0.0572, -0.1581,\n",
              "        -0.3080, -0.4162,  0.3797,  0.1501, -0.5321, -0.2055, -1.2526,  0.0716,\n",
              "         0.7056,  0.4974, -0.4206,  0.2615, -1.5380, -0.3022, -0.0734, -0.2831,\n",
              "         0.3710, -0.2522,  0.0162, -0.0171, -0.3898,  0.8742, -0.7257, -0.5106,\n",
              "        -0.5203, -0.1459,  0.8278,  0.2706], grad_fn=<SelectBackward0>)"
            ]
          },
          "metadata": {},
          "execution_count": 30
        }
      ]
    },
    {
      "cell_type": "code",
      "source": [
        "# 실제 text를 embedding vector들로 변환해봅시다.\n",
        "text = \"The word embedding layer is nice .\"\n",
        "tokens = text.lower().split(' ')\n",
        "tokens"
      ],
      "metadata": {
        "id": "kL9X4tpKVY-Q",
        "colab": {
          "base_uri": "https://localhost:8080/"
        },
        "outputId": "2b5cc68d-8a5a-4a12-f189-c2cfebbef012"
      },
      "execution_count": 31,
      "outputs": [
        {
          "output_type": "execute_result",
          "data": {
            "text/plain": [
              "['the', 'word', 'embedding', 'layer', 'is', 'nice', '.']"
            ]
          },
          "metadata": {},
          "execution_count": 31
        }
      ]
    },
    {
      "cell_type": "code",
      "source": [
        "token_idx = [word2idx[word] for word in tokens]\n",
        "token_idx"
      ],
      "metadata": {
        "id": "XYkbv8UhVzNs",
        "colab": {
          "base_uri": "https://localhost:8080/"
        },
        "outputId": "62fb710c-38ef-468a-db66-2d69c082f491"
      },
      "execution_count": 32,
      "outputs": [
        {
          "output_type": "execute_result",
          "data": {
            "text/plain": [
              "[0, 1388, 43338, 6828, 14, 3082, 2]"
            ]
          },
          "metadata": {},
          "execution_count": 32
        }
      ]
    },
    {
      "cell_type": "code",
      "source": [
        "token_idx = torch.tensor(token_idx, dtype=torch.long) # Pytorch 연산이 가능한 형태로 변환해줍니다.\n",
        "token_idx"
      ],
      "metadata": {
        "id": "pC0jfN3_WApk",
        "colab": {
          "base_uri": "https://localhost:8080/"
        },
        "outputId": "c6646928-b010-47f3-a346-b231bd7382ff"
      },
      "execution_count": 33,
      "outputs": [
        {
          "output_type": "execute_result",
          "data": {
            "text/plain": [
              "tensor([    0,  1388, 43338,  6828,    14,  3082,     2])"
            ]
          },
          "metadata": {},
          "execution_count": 33
        }
      ]
    },
    {
      "cell_type": "code",
      "source": [
        "embedding_layer(token_idx).shape # embedding 모델에 입력한 결과, 7개 단어에 대한 100 dimension vector들이 생성되었습니다."
      ],
      "metadata": {
        "id": "i9muN7t-WR9l",
        "colab": {
          "base_uri": "https://localhost:8080/"
        },
        "outputId": "fa8e7505-771a-4fe5-a2df-1bbde0bdb4d5"
      },
      "execution_count": 34,
      "outputs": [
        {
          "output_type": "execute_result",
          "data": {
            "text/plain": [
              "torch.Size([7, 100])"
            ]
          },
          "metadata": {},
          "execution_count": 34
        }
      ]
    },
    {
      "cell_type": "code",
      "source": [
        "# gensim을 통해 생성한 결과와 pytorch를 통해 생성한 결과값이 같은 것을 확인함으로써, pretrained weight가 잘 로드 되었음을 확인할 수 있습니다.\n",
        "(embedding_layer(token_idx).detach().numpy() == pretrained_w2v[tokens]).all() "
      ],
      "metadata": {
        "id": "cGJCPonnWfH0",
        "colab": {
          "base_uri": "https://localhost:8080/"
        },
        "outputId": "0bbddd10-32ef-4f23-a394-aab40dbffc00"
      },
      "execution_count": 35,
      "outputs": [
        {
          "output_type": "execute_result",
          "data": {
            "text/plain": [
              "True"
            ]
          },
          "metadata": {},
          "execution_count": 35
        }
      ]
    },
    {
      "cell_type": "code",
      "source": [
        "embedding_layer(torch.stack((token_idx, token_idx, token_idx))).shape\n",
        "torch.Size([3,7,100])"
      ],
      "metadata": {
        "colab": {
          "base_uri": "https://localhost:8080/"
        },
        "id": "RLMtEcixZB0b",
        "outputId": "1ec21848-95b8-4031-f652-27a7f40612a0"
      },
      "execution_count": 38,
      "outputs": [
        {
          "output_type": "execute_result",
          "data": {
            "text/plain": [
              "torch.Size([3, 7, 100])"
            ]
          },
          "metadata": {},
          "execution_count": 38
        }
      ]
    },
    {
      "cell_type": "code",
      "source": [
        ""
      ],
      "metadata": {
        "id": "6_YK-rymYFXJ"
      },
      "execution_count": 35,
      "outputs": []
    }
  ]
}