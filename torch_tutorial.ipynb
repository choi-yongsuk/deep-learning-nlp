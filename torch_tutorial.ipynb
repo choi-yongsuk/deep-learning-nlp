{
  "cells": [
    {
      "cell_type": "markdown",
      "metadata": {
        "id": "view-in-github",
        "colab_type": "text"
      },
      "source": [
        "<a href=\"https://colab.research.google.com/github/choi-yongsuk/deep-learning-nlp/blob/master/torch_tutorial.ipynb\" target=\"_parent\"><img src=\"https://colab.research.google.com/assets/colab-badge.svg\" alt=\"Open In Colab\"/></a>"
      ]
    },
    {
      "cell_type": "markdown",
      "metadata": {
        "id": "4bQ45yuroJZR"
      },
      "source": [
        "# Pytorch\n",
        " - Define-by-Run"
      ]
    },
    {
      "cell_type": "markdown",
      "metadata": {
        "id": "hkAgLQ7XoJZW"
      },
      "source": [
        "# Pytorch Packages\n",
        "\n",
        " - **torch**\n",
        " - torch.autograd\n",
        " - torch.nn\n",
        " - torch.optim\n",
        " - torch.multiprocessing\n",
        " - torch.utils\n",
        " - torch.legact"
      ]
    },
    {
      "cell_type": "markdown",
      "metadata": {
        "id": "H0kX_LlDoJZX"
      },
      "source": [
        "# Pytorch Tensor Basic Usage\n",
        "\n",
        "- Create Tensor\n",
        "- Indexing, Joining, Slicing\n",
        "- Initialization\n",
        "- Math Operations"
      ]
    },
    {
      "cell_type": "markdown",
      "metadata": {
        "id": "VX9sI7k2oJZY"
      },
      "source": [
        "## 1. Create Tensor"
      ]
    },
    {
      "cell_type": "markdown",
      "metadata": {
        "id": "467igx-PoJZY"
      },
      "source": [
        "### 1) random numbers"
      ]
    },
    {
      "cell_type": "code",
      "execution_count": 1,
      "metadata": {
        "ExecuteTime": {
          "end_time": "2018-10-28T08:41:16.573579Z",
          "start_time": "2018-10-28T08:41:16.262616Z"
        },
        "id": "70Y3ptJ8oJZZ"
      },
      "outputs": [],
      "source": [
        "from __future__ import print_function\n",
        "import torch"
      ]
    },
    {
      "cell_type": "code",
      "execution_count": 2,
      "metadata": {
        "ExecuteTime": {
          "end_time": "2018-10-18T13:49:52.638893Z",
          "start_time": "2018-10-18T13:49:52.631452Z"
        },
        "id": "sI_QhL15oJZl",
        "colab": {
          "base_uri": "https://localhost:8080/"
        },
        "outputId": "9bf7c275-81de-45ae-a4ce-b5f1e65b1c19"
      },
      "outputs": [
        {
          "output_type": "execute_result",
          "data": {
            "text/plain": [
              "tensor([[0.9467, 0.8785, 0.1041],\n",
              "        [0.5809, 0.3836, 0.8603]])"
            ]
          },
          "metadata": {},
          "execution_count": 2
        }
      ],
      "source": [
        "# torch.rand(size)\n",
        "# 0~1 사이의 연속균등분포에서 값을 뽑아 5x3 텐서를 생성합니다. ~U(0,1)\n",
        "x = torch.rand(2,3)\n",
        "x"
      ]
    },
    {
      "cell_type": "code",
      "execution_count": 3,
      "metadata": {
        "ExecuteTime": {
          "end_time": "2018-10-18T13:49:53.118988Z",
          "start_time": "2018-10-18T13:49:53.110556Z"
        },
        "id": "DXpq8tSEoJZm",
        "colab": {
          "base_uri": "https://localhost:8080/"
        },
        "outputId": "bf19c51a-f3ba-4195-8b47-16c48faccebf"
      },
      "outputs": [
        {
          "output_type": "execute_result",
          "data": {
            "text/plain": [
              "tensor([[-0.2481,  0.4874, -1.0438],\n",
              "        [-0.0649,  0.9877,  0.4222]])"
            ]
          },
          "metadata": {},
          "execution_count": 3
        }
      ],
      "source": [
        "# torch.randn(size)\n",
        "# randn의 경우 평균은 0, 표준편차는 1인 정규분포에서 값을 가져옵니다. ~z(0,1)\n",
        "x = torch.randn(2,3)\n",
        "x"
      ]
    },
    {
      "cell_type": "code",
      "execution_count": 4,
      "metadata": {
        "ExecuteTime": {
          "end_time": "2018-10-18T13:49:53.762464Z",
          "start_time": "2018-10-18T13:49:53.757526Z"
        },
        "id": "40IPx2iqoJZo",
        "colab": {
          "base_uri": "https://localhost:8080/"
        },
        "outputId": "22ae013e-c797-439e-f7d7-e9e77cf4e10a"
      },
      "outputs": [
        {
          "output_type": "execute_result",
          "data": {
            "text/plain": [
              "tensor([0, 3, 2, 1, 4])"
            ]
          },
          "metadata": {},
          "execution_count": 4
        }
      ],
      "source": [
        "# torch.randperm(n)\n",
        "# 0부터 n-1까지 1씩 늘어나며 값을 랜덤으로 정렬합니다.\n",
        "x = torch.randperm(5)\n",
        "x"
      ]
    },
    {
      "cell_type": "markdown",
      "metadata": {
        "id": "1xmYqxHnoJZp"
      },
      "source": [
        "### 2) empty, zeros, ones, arange, max"
      ]
    },
    {
      "cell_type": "code",
      "execution_count": 5,
      "metadata": {
        "ExecuteTime": {
          "end_time": "2018-10-18T13:49:54.685975Z",
          "start_time": "2018-10-18T13:49:54.681021Z"
        },
        "id": "abpE31a_oJZp",
        "colab": {
          "base_uri": "https://localhost:8080/"
        },
        "outputId": "8edcfea3-867d-454c-fffe-c34dcf4f7627"
      },
      "outputs": [
        {
          "output_type": "execute_result",
          "data": {
            "text/plain": [
              "tensor([1.5300e-35, 0.0000e+00, 3.3631e-44])"
            ]
          },
          "metadata": {},
          "execution_count": 5
        }
      ],
      "source": [
        "# torch.empty(size)\n",
        "# 원하는 크기의 아주 작은 값을 가진 텐서를 생성합니다. dtype은 input에 따라 결정됩니다.\n",
        "x = torch.empty(2,3)\n",
        "x[0]"
      ]
    },
    {
      "cell_type": "code",
      "execution_count": 6,
      "metadata": {
        "ExecuteTime": {
          "end_time": "2018-10-18T13:49:55.172440Z",
          "start_time": "2018-10-18T13:49:55.168472Z"
        },
        "id": "Q70muIzhoJZq",
        "colab": {
          "base_uri": "https://localhost:8080/"
        },
        "outputId": "c934e632-4fe3-44d9-a156-ff94ef978531"
      },
      "outputs": [
        {
          "output_type": "execute_result",
          "data": {
            "text/plain": [
              "tensor([0., 0., 0.])"
            ]
          },
          "metadata": {},
          "execution_count": 6
        }
      ],
      "source": [
        "# torch.zeros(size)\n",
        "# 원하는 크기의 0 값을 가진 텐서를 생성합니다.\n",
        "x = torch.zeros(2,3)\n",
        "x[0]"
      ]
    },
    {
      "cell_type": "code",
      "execution_count": 7,
      "metadata": {
        "ExecuteTime": {
          "end_time": "2018-10-18T13:49:55.722504Z",
          "start_time": "2018-10-18T13:49:55.718536Z"
        },
        "id": "eg5Oox-woJZr",
        "colab": {
          "base_uri": "https://localhost:8080/"
        },
        "outputId": "df6232b4-522e-4237-d4a8-0ae5b61c7e49"
      },
      "outputs": [
        {
          "output_type": "execute_result",
          "data": {
            "text/plain": [
              "tensor([[1., 1., 1.],\n",
              "        [1., 1., 1.]])"
            ]
          },
          "metadata": {},
          "execution_count": 7
        }
      ],
      "source": [
        "# torch.ones(size)\n",
        "# 원하는 크기의 1의 값을 가진 텐서를 생성합니다.\n",
        "x = torch.ones(2,3)\n",
        "x"
      ]
    },
    {
      "cell_type": "code",
      "execution_count": 8,
      "metadata": {
        "ExecuteTime": {
          "end_time": "2018-10-18T13:49:56.246613Z",
          "start_time": "2018-10-18T13:49:56.238677Z"
        },
        "id": "yEw7sfmroJZr",
        "colab": {
          "base_uri": "https://localhost:8080/"
        },
        "outputId": "02f91b6d-6f91-4ac1-c198-2354476400b5"
      },
      "outputs": [
        {
          "output_type": "execute_result",
          "data": {
            "text/plain": [
              "tensor([0.0000, 0.5000, 1.0000, 1.5000, 2.0000, 2.5000])"
            ]
          },
          "metadata": {},
          "execution_count": 8
        }
      ],
      "source": [
        "# torch.arange(start,end,step=1)\n",
        "# start값부터 end값 전까지 step만큼 더하며 텐서를 생성합니다.\n",
        "x = torch.arange(0,3,step=0.5)\n",
        "x"
      ]
    },
    {
      "cell_type": "code",
      "execution_count": 9,
      "metadata": {
        "ExecuteTime": {
          "end_time": "2018-10-28T08:43:56.357472Z",
          "start_time": "2018-10-28T08:43:56.348021Z"
        },
        "id": "YW6obygIoJZs",
        "colab": {
          "base_uri": "https://localhost:8080/"
        },
        "outputId": "de939e9a-a208-4877-aa06-f19e018ee9f9"
      },
      "outputs": [
        {
          "output_type": "stream",
          "name": "stdout",
          "text": [
            "tensor([[0.8403, 0.3852, 0.2233],\n",
            "        [0.4722, 0.8919, 0.2529]])\n",
            "tensor(0.8919)\n",
            "torch.return_types.max(\n",
            "values=tensor([0.8403, 0.8919]),\n",
            "indices=tensor([0, 1]))\n",
            "tensor([0, 1])\n"
          ]
        }
      ],
      "source": [
        "# torch.max(input, dim, keepdim=False, out=None) -> (Tensor, LongTensor)\n",
        "# tensor의 최대값을 산출합니다.\n",
        "\n",
        "x = torch.rand(2,3)\n",
        "print(x)\n",
        "\n",
        "# 최대값을 출력합니다.\n",
        "print(torch.max(x))\n",
        "\n",
        "# 해당 차원에서 최대값과 그 위치를 출력합니다.\n",
        "print(torch.max(x,1))\n",
        "\n",
        "# 위치를 출력합니다.\n",
        "print(torch.max(x,1)[1])"
      ]
    },
    {
      "cell_type": "code",
      "source": [
        "torch.tensor([[1,2,3],[4,5,6]])"
      ],
      "metadata": {
        "colab": {
          "base_uri": "https://localhost:8080/"
        },
        "id": "iqdFNUTYIbLr",
        "outputId": "ceae61bb-c1a5-4a16-c8ca-fc90ef49b2c9"
      },
      "execution_count": 12,
      "outputs": [
        {
          "output_type": "execute_result",
          "data": {
            "text/plain": [
              "tensor([[1, 2, 3],\n",
              "        [4, 5, 6]])"
            ]
          },
          "metadata": {},
          "execution_count": 12
        }
      ]
    },
    {
      "cell_type": "code",
      "source": [
        "a = torch.tensor([[1,2,3],[4,5,6]])\n",
        "torch.max(a, dim=0)"
      ],
      "metadata": {
        "colab": {
          "base_uri": "https://localhost:8080/"
        },
        "id": "jGzEv5fmIBDX",
        "outputId": "a311413f-beed-4a9a-f74e-792716ef4823"
      },
      "execution_count": 13,
      "outputs": [
        {
          "output_type": "execute_result",
          "data": {
            "text/plain": [
              "torch.return_types.max(\n",
              "values=tensor([4, 5, 6]),\n",
              "indices=tensor([1, 1, 1]))"
            ]
          },
          "metadata": {},
          "execution_count": 13
        }
      ]
    },
    {
      "cell_type": "markdown",
      "metadata": {
        "id": "8LhaoeyGoJZs"
      },
      "source": [
        "### 3) Tensor Data Type"
      ]
    },
    {
      "cell_type": "markdown",
      "metadata": {
        "id": "YUgrsj0coJZt"
      },
      "source": [
        "| Data type               | dtype                                         | Tensor types                 |\n",
        "|:-------------------------|:-----------------------------------------------|:------------------------------|\n",
        "| 32-bit floating point   | ``` torch.float32 ``` or ``` torch.float ```  | ``` torch.*.FloatTensor ```  |\n",
        "| 64-bit floating point   | ``` torch.float64 ``` or ``` torch.double ``` | ``` torch.*.DoubleTensor ``` |\n",
        "| 16-bit floating point   | ``` torch.float16 ``` or ``` torch.half ```   | ``` torch.*.HalfTensor ```   |\n",
        "| 16-bit integer (signed) | ``` torch.int16 ``` or ``` torch.short ```    | ``` torch.*.ShortTensor ```  |\n",
        "| 32-bit integer (signed) | ``` torch.int32 ``` or ``` torch.int ```      | ``` torch.*.IntTensor ```    |\n",
        "| 64-bit integer (signed) | ``` torch.int64 ``` or ``` torch.long ```     | ``` torch.*.LongTensor ```   |"
      ]
    },
    {
      "cell_type": "code",
      "execution_count": null,
      "metadata": {
        "ExecuteTime": {
          "end_time": "2018-10-18T13:50:14.106543Z",
          "start_time": "2018-10-18T13:50:14.100075Z"
        },
        "scrolled": true,
        "id": "2i-cOVC6oJZt"
      },
      "outputs": [],
      "source": [
        "# torch.empty(size, dtype=)\n",
        "# torch.zeros(size, dtype=)\n",
        "# torch.arange(start,end,dtype=)\n",
        "\n",
        "# torch에서 지원하는 다양한 data type을 옵션으로 지정할 수 있습니다.\n",
        "\n",
        "x = torch.empty(2,3, dtype=torch.float)\n",
        "y = torch.zeros(2,3, dtype = torch.long)\n",
        "z = torch.arange(0,3,step=0.5,dtype=torch.double)\n",
        "\n",
        "print(x)\n",
        "print(y)\n",
        "print(z)"
      ]
    },
    {
      "cell_type": "code",
      "execution_count": null,
      "metadata": {
        "ExecuteTime": {
          "end_time": "2018-10-18T13:52:45.755168Z",
          "start_time": "2018-10-18T13:52:45.748223Z"
        },
        "id": "ut0oJ7p0oJZu"
      },
      "outputs": [],
      "source": [
        "# torch.tensor(size or list, dtype = torch.floattensor) \n",
        "# 원하는 텐서를 바로 생성합니다.\n",
        "x = torch.tensor([5.5,3])\n",
        "x"
      ]
    },
    {
      "cell_type": "code",
      "execution_count": null,
      "metadata": {
        "ExecuteTime": {
          "end_time": "2018-10-18T14:01:15.180723Z",
          "start_time": "2018-10-18T14:01:15.174242Z"
        },
        "id": "yrybF7-QoJZu"
      },
      "outputs": [],
      "source": [
        "# torch.FloatTensor(size or list)\n",
        "x = torch.FloatTensor(2,3)\n",
        "print(x)\n",
        "x = torch.FloatTensor([2,3])\n",
        "print(x)"
      ]
    },
    {
      "cell_type": "code",
      "execution_count": null,
      "metadata": {
        "ExecuteTime": {
          "end_time": "2018-10-18T14:01:45.322911Z",
          "start_time": "2018-10-18T14:01:45.306086Z"
        },
        "id": "1FLR0ahSoJZv"
      },
      "outputs": [],
      "source": [
        "# tensor.type_as(tensor_type)\n",
        "# tensor 형 변환\n",
        "x = x.type_as(torch.IntTensor())\n",
        "x"
      ]
    },
    {
      "cell_type": "markdown",
      "metadata": {
        "id": "3zuH1GJQoJZv"
      },
      "source": [
        "### 4) Tensor Size"
      ]
    },
    {
      "cell_type": "code",
      "execution_count": null,
      "metadata": {
        "ExecuteTime": {
          "end_time": "2018-10-18T14:07:04.655354Z",
          "start_time": "2018-10-18T14:07:04.650890Z"
        },
        "id": "Y6fyTjVHoJZw"
      },
      "outputs": [],
      "source": [
        "# tensor.size()\n",
        "\n",
        "x = torch.FloatTensor(10,12,3,3)\n",
        "\n",
        "print(x.size()[:])\n",
        "print(x.size()[0])"
      ]
    },
    {
      "cell_type": "code",
      "execution_count": null,
      "metadata": {
        "ExecuteTime": {
          "end_time": "2018-10-16T11:39:17.332380Z",
          "start_time": "2018-10-16T11:39:17.325443Z"
        },
        "id": "u_dYOjSdoJZx"
      },
      "outputs": [],
      "source": [
        "x = x.new_ones(5,3, dtype=torch.double) #5,3 차원의 새로운 텐서를 생성합니다.\n",
        "print(x)\n",
        "\n",
        "x = torch.randn_like(x,dtype=torch.float) # 같은 size에서 랜덤한 숫자로 채워진 텐서를 생성합니다.\n",
        "print(x)"
      ]
    },
    {
      "cell_type": "markdown",
      "metadata": {
        "id": "oXUckAExoJZy"
      },
      "source": [
        "## 2. Math Operations\n",
        "\n",
        "### 1) add, mul, div"
      ]
    },
    {
      "cell_type": "code",
      "execution_count": null,
      "metadata": {
        "ExecuteTime": {
          "end_time": "2018-10-18T14:13:27.357191Z",
          "start_time": "2018-10-18T14:13:27.348772Z"
        },
        "id": "DU8iBrnroJZy"
      },
      "outputs": [],
      "source": [
        "# torch.add()\n",
        "# 텐서의 값끼리 더합니다.\n",
        "\n",
        "x1 = torch.FloatTensor([[1,2,3],[4,5,6]])\n",
        "x2 = torch.FloatTensor([[1,2,3],[4,5,6]])\n",
        "add = torch.add(x1, x2)\n",
        "\n",
        "x1,x2,add,x1+x2,x1-x2"
      ]
    },
    {
      "cell_type": "code",
      "execution_count": null,
      "metadata": {
        "ExecuteTime": {
          "end_time": "2018-10-16T11:41:37.076027Z",
          "start_time": "2018-10-16T11:41:37.068067Z"
        },
        "id": "npB5wAyToJZz"
      },
      "outputs": [],
      "source": [
        "#차원이 다르더라도 안쪽 차원만 같으면 연산이 가능합니다.\n",
        "\n",
        "x = torch.rand(1,5,3)\n",
        "y = torch.rand(5,3)\n",
        "torch.add(x,y)"
      ]
    },
    {
      "cell_type": "code",
      "execution_count": null,
      "metadata": {
        "ExecuteTime": {
          "end_time": "2018-10-16T11:47:51.415692Z",
          "start_time": "2018-10-16T11:47:51.411729Z"
        },
        "id": "7jIN_lggoJZz"
      },
      "outputs": [],
      "source": [
        "# torch.add 말고 add_의 경우에는 이러한 연산 기능이 지원되지 않습니다. 따라서 먼저 x를 같은 차원으로 바꿔줍니다.\n",
        "\n",
        "x = torch.rand(5,3)\n",
        "y.add_(x)\n",
        "print(y)"
      ]
    },
    {
      "cell_type": "code",
      "execution_count": null,
      "metadata": {
        "ExecuteTime": {
          "end_time": "2018-10-18T14:17:37.639499Z",
          "start_time": "2018-10-18T14:17:37.627620Z"
        },
        "id": "5-KYgL9zoJZ0"
      },
      "outputs": [],
      "source": [
        "# x 텐서의 2열을 불러옵니다. numpy 연산이 지원됩니다.\n",
        "\n",
        "print(x)\n",
        "print(x[:,1])"
      ]
    },
    {
      "cell_type": "code",
      "execution_count": null,
      "metadata": {
        "ExecuteTime": {
          "end_time": "2018-10-18T14:21:21.937483Z",
          "start_time": "2018-10-18T14:21:21.929079Z"
        },
        "id": "6Pu5JoMdoJZ1"
      },
      "outputs": [],
      "source": [
        "# torch.mul()\n",
        "# hadamard product, mxn, mxn 행렬 2개를 곱합니다. 덧셈에 대해 분배법칙을 따릅니다.\n",
        "\n",
        "x1 = torch.FloatTensor([[1,2,3],[4,5,6]])\n",
        "x2 = torch.FloatTensor([[1,2,3],[4,5,6]])\n",
        "x3 = torch.mul(x1,x2)\n",
        "\n",
        "x3, x3.size()"
      ]
    },
    {
      "cell_type": "code",
      "execution_count": null,
      "metadata": {
        "ExecuteTime": {
          "end_time": "2018-10-18T14:22:18.900911Z",
          "start_time": "2018-10-18T14:22:18.894439Z"
        },
        "id": "rYsiJgqGoJZ1"
      },
      "outputs": [],
      "source": [
        "# torch.mul()\n",
        "\n",
        "x1 = torch.FloatTensor([[1,2,3,],[4,5,6]])\n",
        "x2 = x1*10\n",
        "\n",
        "x2"
      ]
    },
    {
      "cell_type": "code",
      "execution_count": null,
      "metadata": {
        "ExecuteTime": {
          "end_time": "2018-10-18T14:22:59.876800Z",
          "start_time": "2018-10-18T14:22:59.868342Z"
        },
        "id": "4qCN3rrPoJZ1"
      },
      "outputs": [],
      "source": [
        "# torch.div()\n",
        "\n",
        "x1 = torch.FloatTensor([[1,2,3],[4,5,6]])\n",
        "x2 = torch.FloatTensor([[1,2,3],[4,5,6]])\n",
        "x3 = torch.div(x1,x2)\n",
        "\n",
        "x3"
      ]
    },
    {
      "cell_type": "code",
      "execution_count": null,
      "metadata": {
        "ExecuteTime": {
          "end_time": "2018-10-18T14:24:04.752373Z",
          "start_time": "2018-10-18T14:24:04.739488Z"
        },
        "id": "m54HO8J1oJZ2"
      },
      "outputs": [],
      "source": [
        "# torch.div()\n",
        "\n",
        "x1 = torch.FloatTensor([[1,2,3],[4,5,6]])\n",
        "\n",
        "x1/5"
      ]
    },
    {
      "cell_type": "markdown",
      "metadata": {
        "id": "xxHVaPu-oJZ2"
      },
      "source": [
        "### 2) pow, exp, log"
      ]
    },
    {
      "cell_type": "code",
      "execution_count": null,
      "metadata": {
        "ExecuteTime": {
          "end_time": "2018-10-18T14:26:45.051237Z",
          "start_time": "2018-10-18T14:26:45.045284Z"
        },
        "id": "Hw2LOQM4oJZ2"
      },
      "outputs": [],
      "source": [
        "# torch.pow(input,exponent)\n",
        "\n",
        "x1 = torch.rand(3,4)\n",
        "\n",
        "print(x1)\n",
        "print(torch.pow(x1,2),\"\\n\",x1**2)"
      ]
    },
    {
      "cell_type": "code",
      "execution_count": null,
      "metadata": {
        "ExecuteTime": {
          "end_time": "2018-10-18T14:27:39.869050Z",
          "start_time": "2018-10-18T14:27:39.864586Z"
        },
        "id": "xUlC0DyioJZ2"
      },
      "outputs": [],
      "source": [
        "# torch.exp(tensor,out=None)\n",
        "\n",
        "x1 = torch.rand(3,4)\n",
        "\n",
        "print(x1)\n",
        "print(torch.exp(x1))"
      ]
    },
    {
      "cell_type": "code",
      "execution_count": null,
      "metadata": {
        "ExecuteTime": {
          "end_time": "2018-10-18T14:28:38.622326Z",
          "start_time": "2018-10-18T14:28:38.607413Z"
        },
        "id": "qQ3teDkToJZ3"
      },
      "outputs": [],
      "source": [
        "# torch.log(input,out=None)\n",
        "\n",
        "x1 = torch.rand(3,4)\n",
        "\n",
        "print(x1)\n",
        "print(torch.log(x1))"
      ]
    },
    {
      "cell_type": "code",
      "execution_count": null,
      "metadata": {
        "ExecuteTime": {
          "end_time": "2018-10-18T14:30:17.992784Z",
          "start_time": "2018-10-18T14:30:17.976412Z"
        },
        "id": "BFRWiduzoJZ3"
      },
      "outputs": [],
      "source": [
        "# torch.mm(matrix1, matrix2)\n",
        "\n",
        "x1 = torch.rand(3,4)\n",
        "x2 = torch.rand(4,5)\n",
        "\n",
        "torch.mm(x1,x2)"
      ]
    },
    {
      "cell_type": "code",
      "execution_count": null,
      "metadata": {
        "ExecuteTime": {
          "end_time": "2018-10-18T14:31:40.819367Z",
          "start_time": "2018-10-18T14:31:40.815375Z"
        },
        "id": "aXNs5kheoJZ4"
      },
      "outputs": [],
      "source": [
        "# torch.bmm(batch_matrix1, batch_matrix2)\n",
        "\n",
        "x1 = torch.rand(10,3,4)\n",
        "x2 = torch.rand(10,4,5)\n",
        "\n",
        "torch.bmm(x1,x2).size()"
      ]
    },
    {
      "cell_type": "markdown",
      "metadata": {
        "id": "F-oQ_bqUoJZ4"
      },
      "source": [
        "![img](https://github.com/shwksl101/Pytorch-A-to-Z/blob/master/img/innerproduct.PNG?raw=true)"
      ]
    },
    {
      "cell_type": "code",
      "execution_count": null,
      "metadata": {
        "ExecuteTime": {
          "end_time": "2018-10-18T14:35:25.100038Z",
          "start_time": "2018-10-18T14:35:25.092602Z"
        },
        "id": "EKuIA_dFoJZ4"
      },
      "outputs": [],
      "source": [
        "# torch.dot(tensor1, tensor2)\n",
        "\n",
        "torch.dot(torch.tensor([2,3]), torch.tensor([2,1]))"
      ]
    },
    {
      "cell_type": "code",
      "execution_count": null,
      "metadata": {
        "ExecuteTime": {
          "end_time": "2018-10-18T14:42:57.524955Z",
          "start_time": "2018-10-18T14:42:57.514572Z"
        },
        "id": "YKGxscdvoJZ4"
      },
      "outputs": [],
      "source": [
        "# torch.t(matrix)\n",
        "# tranpose\n",
        "\n",
        "x1 = torch.rand(3,4)\n",
        "print(x1.size(), x1.t().size())\n",
        "\n",
        "# torch.transpose(input,dim0,dim1)\n",
        "\n",
        "x1 = torch.rand(10,3,4)\n",
        "x1.size(), torch.transpose(x1,1,2).size(), x1.transpose(1,2).size()"
      ]
    },
    {
      "cell_type": "code",
      "execution_count": null,
      "metadata": {
        "ExecuteTime": {
          "end_time": "2018-10-18T14:44:18.688704Z",
          "start_time": "2018-10-18T14:44:18.679781Z"
        },
        "id": "S1WWz9IRoJZ5"
      },
      "outputs": [],
      "source": [
        "# torch.eig(a,eigenvectors=Flase)\n",
        "# eigen_value, eigen_vector\n",
        "\n",
        "x1 = torch.rand(2,2)\n",
        "\n",
        "print(x1,\"\\n\",torch.eig(x1,True))"
      ]
    },
    {
      "cell_type": "markdown",
      "metadata": {
        "id": "xw-hYgc7oJZ5"
      },
      "source": [
        "### 3) view, item"
      ]
    },
    {
      "cell_type": "code",
      "execution_count": null,
      "metadata": {
        "ExecuteTime": {
          "end_time": "2018-10-16T11:51:42.774580Z",
          "start_time": "2018-10-16T11:51:42.767140Z"
        },
        "id": "VlTJmBqboJZ5"
      },
      "outputs": [],
      "source": [
        "# view()\n",
        "\n",
        "x = torch.randn(4,4)\n",
        "y = x.view(16)\n",
        "z = x.view(-1,8) # -1의 경우 다른 차원들로 유추합니다. 이 경우에는 2로 유추합니다.\n",
        "print(x.size())\n",
        "print(y.size(),y)\n",
        "print(z.size(),z)"
      ]
    },
    {
      "cell_type": "code",
      "execution_count": null,
      "metadata": {
        "ExecuteTime": {
          "end_time": "2018-10-16T11:54:28.425390Z",
          "start_time": "2018-10-16T11:54:28.417952Z"
        },
        "id": "lcZeXqP0oJZ5"
      },
      "outputs": [],
      "source": [
        "# item()\n",
        "\n",
        "x = torch.randn(1)\n",
        "print(x)\n",
        "print(x.item())"
      ]
    },
    {
      "cell_type": "markdown",
      "metadata": {
        "id": "ZDDHTYuvoJZ6"
      },
      "source": [
        "- 더 많은 연산은 다음의 링크에서 참고하세요 https://pytorch.org/docs/stable/torch.html"
      ]
    },
    {
      "cell_type": "markdown",
      "metadata": {
        "id": "B2QdQ3ljoJZ6"
      },
      "source": [
        "## 3. Tensor to Numpy, Numpy to Tensor"
      ]
    },
    {
      "cell_type": "code",
      "execution_count": null,
      "metadata": {
        "ExecuteTime": {
          "end_time": "2018-10-16T12:05:14.994111Z",
          "start_time": "2018-10-16T12:05:14.990154Z"
        },
        "id": "XOiYNaRJoJZ6"
      },
      "outputs": [],
      "source": [
        "import numpy as np"
      ]
    },
    {
      "cell_type": "code",
      "execution_count": null,
      "metadata": {
        "ExecuteTime": {
          "end_time": "2018-10-16T12:03:49.835180Z",
          "start_time": "2018-10-16T12:03:49.830247Z"
        },
        "id": "k7CkxhqyoJZ6"
      },
      "outputs": [],
      "source": [
        "a = torch.ones(5) # 1로 채워진 텐서를 생성합니다.\n",
        "print(a)"
      ]
    },
    {
      "cell_type": "code",
      "execution_count": null,
      "metadata": {
        "ExecuteTime": {
          "end_time": "2018-10-16T12:04:03.331822Z",
          "start_time": "2018-10-16T12:04:03.320915Z"
        },
        "id": "XczUN2w8oJZ7"
      },
      "outputs": [],
      "source": [
        "# tensor.numpy()\n",
        "\n",
        "b = a.numpy()\n",
        "print(b)"
      ]
    },
    {
      "cell_type": "code",
      "execution_count": null,
      "metadata": {
        "ExecuteTime": {
          "end_time": "2018-10-16T12:05:53.759506Z",
          "start_time": "2018-10-16T12:05:53.752563Z"
        },
        "id": "VXLWiRrEoJZ7"
      },
      "outputs": [],
      "source": [
        "# torch.from_numpy(ndarray)\n",
        "\n",
        "a = np.ones(5) #a와 b는 연동됩니다.\n",
        "b = torch.from_numpy(a)\n",
        "\n",
        "np.add(a,1,out=a)\n",
        "\n",
        "print(a)\n",
        "print(b) #chartensor를 제외한 모든 tensor는 numpy로의 변환을 지원합니다."
      ]
    },
    {
      "cell_type": "markdown",
      "metadata": {
        "id": "4SmGVWMZoJZ7"
      },
      "source": [
        "## 4. Tensor on GPU"
      ]
    },
    {
      "cell_type": "code",
      "execution_count": null,
      "metadata": {
        "ExecuteTime": {
          "end_time": "2018-10-18T14:52:44.993367Z",
          "start_time": "2018-10-18T14:52:44.988429Z"
        },
        "id": "SFnu-3keoJZ7"
      },
      "outputs": [],
      "source": [
        "x= torch.FloatTensor([[1,2,3],[4,5,6]])\n",
        "\n",
        "if torch.cuda.is_available():\n",
        "    x_cuda = x.cuda()\n",
        "else:\n",
        "    x_cuda = x.cpu()\n",
        "    \n",
        "print(x_cuda)"
      ]
    },
    {
      "cell_type": "code",
      "execution_count": null,
      "metadata": {
        "ExecuteTime": {
          "end_time": "2018-10-16T12:09:27.092831Z",
          "start_time": "2018-10-16T12:09:27.086847Z"
        },
        "id": "bwrp30pToJZ8"
      },
      "outputs": [],
      "source": [
        "if torch.cuda.is_available():\n",
        "    device = torch.device(\"cuda\")\n",
        "    y = torch.ones_like(x,device=device)\n",
        "    x = x.to(device)\n",
        "    z = x+y\n",
        "    print(z)\n",
        "    print(z.to(\"cpu\",torch.double)) #.to 기능을 tensor를 GPU로 연산할 수 있습니다"
      ]
    },
    {
      "cell_type": "markdown",
      "metadata": {
        "id": "FKegRf3YoJZ8"
      },
      "source": [
        "## 5. Indexing, Slicing, Joining\n",
        "\n",
        "### 1) Indexing"
      ]
    },
    {
      "cell_type": "code",
      "execution_count": null,
      "metadata": {
        "ExecuteTime": {
          "end_time": "2018-10-18T14:56:58.868223Z",
          "start_time": "2018-10-18T14:56:58.861290Z"
        },
        "id": "1MJwowwHoJZ8"
      },
      "outputs": [],
      "source": [
        "# tensor.index_select(input,dim,index)\n",
        "\n",
        "x = torch.rand(4,3)\n",
        "out = torch.index_select(x,0,torch.LongTensor([0,3]))\n",
        "# index는 꼭 Longtensor로 입력해야 합니다.\n",
        "\n",
        "print(x, \"\\n\", out)"
      ]
    },
    {
      "cell_type": "code",
      "execution_count": null,
      "metadata": {
        "ExecuteTime": {
          "end_time": "2018-10-18T14:58:17.485947Z",
          "start_time": "2018-10-18T14:58:17.476527Z"
        },
        "id": "9chn_4M4oJZ8"
      },
      "outputs": [],
      "source": [
        "print(x)\n",
        "print(x[:,0])\n",
        "print(x[0,:])\n",
        "print(x[0:2,0:2])"
      ]
    },
    {
      "cell_type": "markdown",
      "metadata": {
        "id": "vV-Z0CbzoJZ9"
      },
      "source": [
        "### 2) Joining"
      ]
    },
    {
      "cell_type": "code",
      "execution_count": null,
      "metadata": {
        "ExecuteTime": {
          "end_time": "2018-10-18T15:03:42.155801Z",
          "start_time": "2018-10-18T15:03:42.147864Z"
        },
        "id": "X49sFG-1oJZ9"
      },
      "outputs": [],
      "source": [
        "# torch.cat(seq, dim=0)\n",
        "# dim을 기준으로 tensor를 합칩니다.\n",
        "# dim = 0은 행, dim = 1은 열 기준입니다.\n",
        "\n",
        "x = torch.FloatTensor([[1,2,3],\n",
        "                       [4,5,6]])\n",
        "y = torch.FloatTensor([[7,8,9],\n",
        "                       [10,11,12]])\n",
        "z1 = torch.cat([x,y],dim = 0)\n",
        "z2 = torch.cat([x,y],dim = 1)\n",
        "\n",
        "print(x)\n",
        "print(y)\n",
        "print(z1)\n",
        "print(z2)"
      ]
    },
    {
      "cell_type": "code",
      "execution_count": null,
      "metadata": {
        "ExecuteTime": {
          "end_time": "2018-10-18T15:06:42.528676Z",
          "start_time": "2018-10-18T15:06:42.521732Z"
        },
        "id": "scLaPvH9oJZ9"
      },
      "outputs": [],
      "source": [
        "# torch.stack(sequence,dim=0)\n",
        "# dim을 기준으로 쌓습니다.\n",
        "\n",
        "x = torch.FloatTensor([1,2,3])\n",
        "x_stack = torch.stack([x,x],dim=0)\n",
        "x_stack2 = torch.stack([x,x],dim=1)\n",
        "\n",
        "print(x_stack,\"\\n\",x_stack2)"
      ]
    },
    {
      "cell_type": "markdown",
      "metadata": {
        "id": "QUCXfmPQoJZ-"
      },
      "source": [
        "### 3) Slicing"
      ]
    },
    {
      "cell_type": "code",
      "execution_count": null,
      "metadata": {
        "ExecuteTime": {
          "end_time": "2018-10-18T15:26:40.350021Z",
          "start_time": "2018-10-18T15:26:40.340105Z"
        },
        "id": "uRjakSCQoJZ-"
      },
      "outputs": [],
      "source": [
        "# torch.chunk(tensor, chunks, dim=0)\n",
        "# tensor를 chunk 단위로 쪼갭니다.\n",
        "\n",
        "x = torch.FloatTensor([[1,2,3],\n",
        "                       [4,5,6]])\n",
        "y = torch.FloatTensor([[7,8,9],\n",
        "                       [10,11,12]])\n",
        "z1 = torch.cat([x,y],dim = 0)\n",
        "\n",
        "x_1, x_2 = torch.chunk(z1,2,dim=0)\n",
        "y_1, y_2, y_3 = torch.chunk(z1,3,dim=1)\n",
        "\n",
        "print(z1)\n",
        "print(x_1)\n",
        "print(x_2)\n",
        "print(y_1)\n",
        "print(y_2)\n",
        "print(y_3)"
      ]
    },
    {
      "cell_type": "code",
      "execution_count": null,
      "metadata": {
        "ExecuteTime": {
          "end_time": "2018-10-18T15:30:36.566401Z",
          "start_time": "2018-10-18T15:30:36.560913Z"
        },
        "id": "fbAQFih0oJZ-"
      },
      "outputs": [],
      "source": [
        "# torch.split(tensor,splot_size,dim=0)\n",
        "\n",
        "x = torch.FloatTensor([[1,2,3],\n",
        "                       [4,5,6]])\n",
        "y = torch.FloatTensor([[7,8,9],\n",
        "                       [10,11,12]])\n",
        "z1 = torch.cat([x,y],dim = 0)\n",
        "\n",
        "x1,x2 = torch.split(z1,2,dim=0)\n",
        "y1 = torch.split(z1,2,dim=1)\n",
        "\n",
        "print(x1)\n",
        "print(x2)\n",
        "print(y1)"
      ]
    },
    {
      "cell_type": "markdown",
      "metadata": {
        "id": "tuRg4aOdoJZ-"
      },
      "source": [
        "### 4) squeezing"
      ]
    },
    {
      "cell_type": "code",
      "execution_count": null,
      "metadata": {
        "ExecuteTime": {
          "end_time": "2018-10-18T15:32:18.274598Z",
          "start_time": "2018-10-18T15:32:18.270607Z"
        },
        "id": "K8YcA_6qoJZ_"
      },
      "outputs": [],
      "source": [
        "# torch.squeeze(input, dim=None)\n",
        "# 1짜리 차원을 줄입니다.\n",
        "\n",
        "x1 = torch.FloatTensor(10,1,3,1,4)\n",
        "x2 = torch.squeeze(x1)\n",
        "\n",
        "x1.size(), x2.size()"
      ]
    },
    {
      "cell_type": "code",
      "execution_count": null,
      "metadata": {
        "ExecuteTime": {
          "end_time": "2018-10-18T15:33:42.680785Z",
          "start_time": "2018-10-18T15:33:42.668846Z"
        },
        "id": "y6fuWkRuoJZ_"
      },
      "outputs": [],
      "source": [
        "# torch.unsqueeze(input,dim=None)\n",
        "# 1짜리 차원을 더합니다.\n",
        "\n",
        "x1 = torch.FloatTensor(10,3,4)\n",
        "x2 = torch.unsqueeze(x1,dim=0)\n",
        "\n",
        "x.size(), x2.size()"
      ]
    },
    {
      "cell_type": "markdown",
      "metadata": {
        "id": "bxL4o5MqoJZ_"
      },
      "source": [
        "## 6. Initialization"
      ]
    },
    {
      "cell_type": "code",
      "execution_count": null,
      "metadata": {
        "ExecuteTime": {
          "end_time": "2018-10-18T15:34:35.243740Z",
          "start_time": "2018-10-18T15:34:35.234338Z"
        },
        "id": "_24PMDmsoJZ_"
      },
      "outputs": [],
      "source": [
        "import torch.nn.init as init\n",
        "\n",
        "x1 = init.uniform_(torch.FloatTensor(3,4),a=0,b=9) \n",
        "x2 = init.normal_(torch.FloatTensor(3,4),std=0.2)\n",
        "x3 = init.constant_(torch.FloatTensor(3,4),3.1415)\n",
        "\n",
        "x1,x2,x3"
      ]
    },
    {
      "cell_type": "code",
      "execution_count": null,
      "metadata": {
        "id": "J7Rfa9zHoJaA"
      },
      "outputs": [],
      "source": [
        ""
      ]
    }
  ],
  "metadata": {
    "kernelspec": {
      "display_name": "Python 3",
      "language": "python",
      "name": "python3"
    },
    "language_info": {
      "codemirror_mode": {
        "name": "ipython",
        "version": 3
      },
      "file_extension": ".py",
      "mimetype": "text/x-python",
      "name": "python",
      "nbconvert_exporter": "python",
      "pygments_lexer": "ipython3",
      "version": "3.7.7"
    },
    "latex_envs": {
      "LaTeX_envs_menu_present": true,
      "autoclose": false,
      "autocomplete": true,
      "bibliofile": "biblio.bib",
      "cite_by": "apalike",
      "current_citInitial": 1,
      "eqLabelWithNumbers": true,
      "eqNumInitial": 1,
      "hotkeys": {
        "equation": "Ctrl-E",
        "itemize": "Ctrl-I"
      },
      "labels_anchors": false,
      "latex_user_defs": false,
      "report_style_numbering": false,
      "user_envs_cfg": false
    },
    "toc": {
      "base_numbering": 1,
      "nav_menu": {},
      "number_sections": false,
      "sideBar": true,
      "skip_h1_title": false,
      "title_cell": "Table of Contents",
      "title_sidebar": "Contents",
      "toc_cell": false,
      "toc_position": {},
      "toc_section_display": true,
      "toc_window_display": false
    },
    "varInspector": {
      "cols": {
        "lenName": 16,
        "lenType": 16,
        "lenVar": 40
      },
      "kernels_config": {
        "python": {
          "delete_cmd_postfix": "",
          "delete_cmd_prefix": "del ",
          "library": "var_list.py",
          "varRefreshCmd": "print(var_dic_list())"
        },
        "r": {
          "delete_cmd_postfix": ") ",
          "delete_cmd_prefix": "rm(",
          "library": "var_list.r",
          "varRefreshCmd": "cat(var_dic_list()) "
        }
      },
      "types_to_exclude": [
        "module",
        "function",
        "builtin_function_or_method",
        "instance",
        "_Feature"
      ],
      "window_display": false
    },
    "colab": {
      "name": "torch_tutorial.ipynb",
      "provenance": [],
      "collapsed_sections": [],
      "include_colab_link": true
    }
  },
  "nbformat": 4,
  "nbformat_minor": 0
}