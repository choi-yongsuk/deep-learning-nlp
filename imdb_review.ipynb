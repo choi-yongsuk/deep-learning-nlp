{
  "nbformat": 4,
  "nbformat_minor": 0,
  "metadata": {
    "colab": {
      "name": "imdb review.ipynb",
      "provenance": [],
      "authorship_tag": "ABX9TyPCcKJ45jCdzDVCmFfskY8B",
      "include_colab_link": true
    },
    "kernelspec": {
      "name": "python3",
      "display_name": "Python 3"
    },
    "language_info": {
      "name": "python"
    }
  },
  "cells": [
    {
      "cell_type": "markdown",
      "metadata": {
        "id": "view-in-github",
        "colab_type": "text"
      },
      "source": [
        "<a href=\"https://colab.research.google.com/github/choi-yongsuk/deep-learning-nlp/blob/master/imdb_review.ipynb\" target=\"_parent\"><img src=\"https://colab.research.google.com/assets/colab-badge.svg\" alt=\"Open In Colab\"/></a>"
      ]
    },
    {
      "cell_type": "code",
      "execution_count": null,
      "metadata": {
        "id": "uxGNy_GDUmmU"
      },
      "outputs": [],
      "source": [
        "import os\n",
        "import re\n",
        "import pandas as pd\n",
        "import tensorflow as tf\n",
        "from tensorflow.keras import utils\n",
        "\n",
        "# IMDB 데이터다운로드\n",
        "\n",
        "dtat_set = tf.keras.utils.get_file(\n",
        "      fname=\"imdb.tar.gz\", #downloaded file name\n",
        "      origin=\"http://ai.stanford.edu/~amaas/data/sentiment/aclImdb_v1.tar.gz\",\n",
        "      extract=True)\n",
        "\n",
        "def dictory_data(dirctory):\n",
        "    data = {}\n",
        "    data[\"review\"] = []\n",
        "    for file_path in os.listdir(directory):\n",
        "      with open(os.path.join(directory, file_path), \"r\",encoding='utf-8') as file:\n",
        "        data[\"review\"].append(file.read())\n",
        "    return pd.DataFrame.from_dict(data)\n",
        "\n",
        "def data(directory):\n",
        "    pos_df = directory_data(os.path.join(directory, \"pos\"))\n",
        "    neg_df = directory_Data(os.path.join(directory, \"neg\"))\n",
        "    pos_df[\"sentiment\"] = 1\n",
        "    neg_df[\"sentiment\"] = 0\n",
        "    return pd.concat)[pos_df, neg_df]\n",
        "\n",
        "#학습    \n",
        "train_df = data(os.path.join(os.path.dirname(data_set), \"aclImdb\", \"train\"))\n",
        "\n",
        "#테스를\n",
        "test_df = data(os.path.join(os.path.dirname(data_set), \"aclImdb\", \"test\"))\n",
        "\n",
        "train_df.head()\n",
        "reviews = list(train_df['review'])\n",
        "\n",
        "# 문자열 문장 리스트를 토큰화\n",
        "to\n"
      ]
    }
  ]
}